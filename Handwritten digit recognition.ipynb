{
 "cells": [
  {
   "cell_type": "markdown",
   "id": "eee451d8-9314-4ff2-8796-9aa243cb5cc4",
   "metadata": {},
   "source": [
    "1. Screen capture\n",
    "2. Generate dataset and load it\n",
    "3. Fit the model using SVC and calculate accuracy\n",
    "4. Prediction of image drawn in paint"
   ]
  },
  {
   "cell_type": "markdown",
   "id": "fefd0c46-224b-44dc-be8f-c3240d0bb33f",
   "metadata": {},
   "source": [
    "# Screen capture"
   ]
  },
  {
   "cell_type": "code",
   "execution_count": 1,
   "id": "ba60866d-e1df-46e5-a2fe-98b4f6d9b25d",
   "metadata": {},
   "outputs": [],
   "source": [
    "def one_time():\n",
    "    import pyscreenshot as ImageGrab\n",
    "    import time\n",
    "    images_folder = \"captured_images/9/\"\n",
    "    for i in range(0,5):\n",
    "        time.sleep(8)\n",
    "        im = ImageGrab(bbox=(60,170,400,550)) #x1,y1,x2,y2\n",
    "        print(\"saved.......\",i)\n",
    "        im.save(images_folder + str(i) + '.png')\n",
    "        print(\"clear screen now and redraw now...........\")"
   ]
  },
  {
   "cell_type": "markdown",
   "id": "7ea54d2a-8e2a-4607-abc3-f0e05bccf8d7",
   "metadata": {},
   "source": [
    "# Generate dataset"
   ]
  },
  {
   "cell_type": "code",
   "execution_count": 2,
   "id": "5d010635-9c84-4ff4-ab07-e4b2087d322d",
   "metadata": {},
   "outputs": [],
   "source": [
    "import cv2\n",
    "import csv\n",
    "import glob\n",
    "  \n",
    "header  =[\"label\"]\n",
    "for i in range(0,784):\n",
    "   header.append(\"pixel\"+str(i))\n",
    "with open('dataset.csv', 'a') as f:\n",
    "   writer = csv.writer(f)\n",
    "   writer.writerow(header)\n",
    "    \n",
    "for label in range(10):\n",
    "   dirList = glob.glob(\"captured_images/\"+str(label)+\"/*.png\")\n",
    "    \n",
    "   for img_path in dirList:\n",
    "       im= cv2.imread(img_path)\n",
    "       im_gray = cv2.cvtColor(im,cv2.COLOR_BGR2GRAY)\n",
    "       im_gray = cv2.GaussianBlur(im_gray,(15,15), 0)\n",
    "       roi= cv2.resize(im_gray,(28,28), interpolation=cv2.INTER_AREA)\n",
    "        \n",
    "       data=[]\n",
    "       data.append(label)\n",
    "       rows, cols = roi.shape\n",
    "        \n",
    "       ## Fill the data array with pixels one by one.\n",
    "       for i in range(rows):\n",
    "           for j in range(cols):\n",
    "               k =roi[i,j]\n",
    "               if k>100:\n",
    "                   k=1\n",
    "               else:\n",
    "                   k=0\n",
    "               data.append(k)\n",
    "       with open('dataset.csv', 'a') as f:\n",
    "           writer = csv.writer(f)\n",
    "           writer.writerow(data)\n",
    "    "
   ]
  },
  {
   "cell_type": "markdown",
   "id": "119c3b4d-cdb2-420c-afa9-e962d278676e",
   "metadata": {},
   "source": [
    "# Load the dataset"
   ]
  },
  {
   "cell_type": "code",
   "execution_count": 3,
   "id": "eb8c226c-dc17-417c-bf26-976bf3105ae0",
   "metadata": {},
   "outputs": [
    {
     "name": "stdout",
     "output_type": "stream",
     "text": [
      "    label pixel0 pixel1 pixel2 pixel3 pixel4 pixel5 pixel6 pixel7 pixel8  ...  \\\n",
      "786     7      0      0      0      0      0      0      0      0      0  ...   \n",
      "207     2      0      0      0      0      0      0      0      0      0  ...   \n",
      "543     5      0      0      0      0      0      0      0      0      0  ...   \n",
      "641     6      0      0      0      0      0      0      0      0      0  ...   \n",
      "734     7      0      0      0      0      0      0      0      0      0  ...   \n",
      "..    ...    ...    ...    ...    ...    ...    ...    ...    ...    ...  ...   \n",
      "458     4      0      0      0      0      0      0      0      0      0  ...   \n",
      "6       0      0      0      0      0      0      0      0      0      0  ...   \n",
      "799     7      0      0      0      0      0      0      0      0      0  ...   \n",
      "606     6      0      0      0      0      0      0      0      0      0  ...   \n",
      "49      0      0      0      0      0      0      0      0      0      0  ...   \n",
      "\n",
      "    pixel774 pixel775 pixel776 pixel777 pixel778 pixel779 pixel780 pixel781  \\\n",
      "786        0        0        0        0        0        0        0        0   \n",
      "207        0        0        0        0        0        0        0        0   \n",
      "543        0        0        0        0        0        0        0        0   \n",
      "641        0        0        0        0        0        0        0        0   \n",
      "734        0        0        0        0        0        0        0        0   \n",
      "..       ...      ...      ...      ...      ...      ...      ...      ...   \n",
      "458        0        0        0        0        0        0        0        0   \n",
      "6          0        0        0        0        0        0        0        0   \n",
      "799        0        0        0        0        0        0        0        0   \n",
      "606        0        0        0        0        0        0        0        0   \n",
      "49         0        0        0        0        0        0        0        0   \n",
      "\n",
      "    pixel782 pixel783  \n",
      "786        0        0  \n",
      "207        0        0  \n",
      "543        0        0  \n",
      "641        0        0  \n",
      "734        0        0  \n",
      "..       ...      ...  \n",
      "458        0        0  \n",
      "6          0        0  \n",
      "799        0        0  \n",
      "606        0        0  \n",
      "49         0        0  \n",
      "\n",
      "[1003 rows x 785 columns]\n"
     ]
    }
   ],
   "source": [
    "import pandas as pd \n",
    "from sklearn.utils import shuffle \n",
    "\n",
    "data = pd.read_csv('dataset.csv')\n",
    "data = shuffle(data)\n",
    "print(data)"
   ]
  },
  {
   "cell_type": "markdown",
   "id": "d9e41235-845d-4a28-bf4e-7b2e072f156a",
   "metadata": {},
   "source": [
    "# Separating dependent and independent variables"
   ]
  },
  {
   "cell_type": "code",
   "execution_count": 4,
   "id": "06dca474-c2fb-4454-b886-4ede44b6b200",
   "metadata": {},
   "outputs": [],
   "source": [
    "X = data.drop([\"label\"],axis=1)\n",
    "Y= data[\"label\"]"
   ]
  },
  {
   "cell_type": "markdown",
   "id": "c476533d-1ad9-49b4-bd16-ed4d9e119041",
   "metadata": {},
   "source": [
    "# Preview of one image using matplotlib"
   ]
  },
  {
   "cell_type": "code",
   "execution_count": 8,
   "id": "f50a0645-ce11-49dd-894c-e3c18cf993fe",
   "metadata": {},
   "outputs": [
    {
     "name": "stdout",
     "output_type": "stream",
     "text": [
      "(28, 28)\n",
      "object\n"
     ]
    },
    {
     "data": {
      "text/plain": [
       "<matplotlib.image.AxesImage at 0x2438d97aae0>"
      ]
     },
     "execution_count": 8,
     "metadata": {},
     "output_type": "execute_result"
    },
    {
     "data": {
      "image/png": "[encoded data removed]",
      "text/plain": [
       "<Figure size 640x480 with 1 Axes>"
      ]
     },
     "metadata": {},
     "output_type": "display_data"
    }
   ],
   "source": [
    "%matplotlib inline\n",
    "import matplotlib.pyplot as plt\n",
    "import cv2\n",
    "\n",
    "# idx = 314\n",
    "# img = X.iloc[idx].values.reshape(28, 28)  # Use iloc if loc gives an error\n",
    "# print(Y[idx])\n",
    "# plt.imshow(img, cmap='gray')\n",
    "\n",
    "idx = 314\n",
    "img = X.iloc[idx].values.reshape(28, 28)  # Reshape to (28,28)\n",
    "print(img.shape)  # Check shape\n",
    "print(img.dtype)  # Check data type\n",
    "img = img.astype('float32')  # Ensure valid data type\n",
    "plt.imshow(img, cmap='gray')  # Display image"
   ]
  },
  {
   "cell_type": "markdown",
   "id": "248ea617-1f30-4e5e-b4b3-1077dae18d65",
   "metadata": {},
   "source": [
    "# Train-Test split"
   ]
  },
  {
   "cell_type": "code",
   "execution_count": 9,
   "id": "939c1d0a-337a-4418-9a6a-7404e88ecea6",
   "metadata": {},
   "outputs": [],
   "source": [
    "from sklearn.model_selection import train_test_split\n",
    "train_x,test_x,train_y,test_y = train_test_split(X,Y, test_size = 0.2)\n"
   ]
  },
  {
   "cell_type": "markdown",
   "id": "2a4179e0-c8b8-428b-8a92-c45711dd6206",
   "metadata": {},
   "source": [
    "# Fit the model using svc and also save the model using joblib"
   ]
  },
  {
   "cell_type": "code",
   "execution_count": 12,
   "id": "2463fe95-1014-4249-98b2-304ec6ab4446",
   "metadata": {},
   "outputs": [
    {
     "data": {
      "text/plain": [
       "['model/digit_recognizer']"
      ]
     },
     "execution_count": 12,
     "metadata": {},
     "output_type": "execute_result"
    }
   ],
   "source": [
    "import joblib\n",
    "from sklearn.svm import SVC\n",
    "# Initialize classifier\n",
    "classifier=SVC(kernel=\"linear\", random_state=6)\n",
    "\n",
    "# Train model\n",
    "classifier.fit(train_x,train_y)\n",
    "\n",
    "# Save the model\n",
    "joblib.dump(classifier, \"model/digit_recognizer\")"
   ]
  },
  {
   "cell_type": "markdown",
   "id": "77036bd7-82af-4fd9-b224-be8abb6426af",
   "metadata": {},
   "source": [
    "# Calculate accuracy"
   ]
  },
  {
   "cell_type": "code",
   "execution_count": null,
   "id": "7a75a943-f4b1-4c3e-8f69-493d72b81a0b",
   "metadata": {},
   "outputs": [],
   "source": [
    "from sklearn import metrics\n",
    "prediction=classifier.predict(test_x)\n",
    "print(\"Accuracy= \",metrics.accuracy_score(prediction, test_y))"
   ]
  },
  {
   "cell_type": "code",
   "execution_count": null,
   "id": "3059f9da-ac75-4c98-9c4a-616708e92654",
   "metadata": {},
   "outputs": [],
   "source": [
    "# Accuracy = 0.975"
   ]
  },
  {
   "cell_type": "markdown",
   "id": "90a89500-94c5-48b8-a199-cae9b57998f4",
   "metadata": {},
   "source": [
    "# Live Prediction"
   ]
  },
  {
   "cell_type": "code",
   "execution_count": null,
   "id": "4558f620-e1d6-4168-b08b-5808525f9daa",
   "metadata": {},
   "outputs": [],
   "source": [
    "#prediction of image drawn in paint\n",
    "  \n",
    "import joblib\n",
    "import cv2\n",
    "import numpy as np #pip install numpy\n",
    "import time\n",
    "import pyscreenshot as ImageGrab\n",
    "  \n",
    "model=joblib.load(\"model/digit_recognizer\")\n",
    "image_folder=\"img/\"\n",
    "  \n",
    "while True:\n",
    "   img=ImageGrab.grab(bbox=(60,170,400,500))\n",
    "    \n",
    "   img.save(images_folder+\"img.png\")\n",
    "   im = cv2.imread(images_folder+\"img.png\")\n",
    "   im_gray = cv2.cvtColor(im,cv2.COLOR_BGR2GRAY)\n",
    "   im_gray  =cv2.GaussianBlur(im_gray, (15,15), 0)\n",
    "    \n",
    "   #Threshold the image\n",
    "   ret, im_th = cv2.threshold(im_gray,100, 255, cv2.THRESH_BINARY)\n",
    "   roi = cv2.resize(im_th, (28,28), interpolation  =cv2.INTER_AREA)\n",
    "    \n",
    "   rows,cols=roi.shape\n",
    "        \n",
    "   X = []\n",
    "    \n",
    "   ##  Fill the data array with pixels one by one.\n",
    "   for i in range(rows):\n",
    "       for j in range(cols):\n",
    "           k = roi[i,j]\n",
    "           if k>100:\n",
    "               k=1\n",
    "           else:\n",
    "               k=0\n",
    "           X.append(k)\n",
    "            \n",
    "   predictions  =model.predict([X])\n",
    "   print(\"Prediction:\",predictions[0])\n",
    "   cv2.putText(im, \"Prediction is: \"+str(predictions[0]), (20,20), 0, 0.8,(0,255,0),2,cv2.LINE_AA)\n",
    "    \n",
    "   cv2.startWindowThread()\n",
    "   cv2.namedWindow(\"Result\")\n",
    "   cv2.imshow(\"Result\",im)\n",
    "   cv2.waitKey(10000)\n",
    "   if cv2.waitKey(1)==13: #27 is the ascii value of esc, 13 is the ascii value of enter\n",
    "       break\n",
    "   cv2.destroyAllWindows()"
   ]
  },
  {
   "cell_type": "code",
   "execution_count": null,
   "id": "c92dff88-5f88-4e3a-80d6-d261b4fbaa6c",
   "metadata": {},
   "outputs": [],
   "source": []
  }
 ],
 "metadata": {
  "kernelspec": {
   "display_name": "Python 3 (ipykernel)",
   "language": "python",
   "name": "python3"
  },
  "language_info": {
   "codemirror_mode": {
    "name": "ipython",
    "version": 3
   },
   "file_extension": ".py",
   "mimetype": "text/x-python",
   "name": "python",
   "nbconvert_exporter": "python",
   "pygments_lexer": "ipython3",
   "version": "3.12.1"
  }
 },
 "nbformat": 4,
 "nbformat_minor": 5
}
